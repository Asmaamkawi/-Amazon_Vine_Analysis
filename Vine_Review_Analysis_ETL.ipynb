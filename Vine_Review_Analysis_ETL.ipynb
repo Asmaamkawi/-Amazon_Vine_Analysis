{
  "nbformat": 4,
  "nbformat_minor": 0,
  "metadata": {
    "colab": {
      "name": "Vine_Review_Analysis_ETL.ipynb",
      "provenance": [],
      "collapsed_sections": []
    },
    "kernelspec": {
      "name": "python3",
      "display_name": "Python 3"
    },
    "nteract": {
      "version": "0.12.3"
    },
    "language_info": {
      "name": "python"
    }
  },
  "cells": [
    {
      "cell_type": "code",
      "metadata": {
        "id": "V58rxea0HqSa",
        "colab": {
          "base_uri": "https://localhost:8080/"
        },
        "outputId": "1c823407-2e3f-4a48-d046-e6c377cb9759"
      },
      "source": [
        "import os\n",
        "# Find the latest version of spark 3.0 from http://www.apache.org/dist/spark/ and enter as the spark version\n",
        "# For example:\n",
        "# spark_version = 'spark-3.1.2'\n",
        "spark_version = 'spark-3.1.2'\n",
        "os.environ['SPARK_VERSION']=spark_version\n",
        "\n",
        "# Install Spark and Java\n",
        "!apt-get update\n",
        "!apt-get install openjdk-11-jdk-headless -qq > /dev/null\n",
        "!wget -q http://www.apache.org/dist/spark/$SPARK_VERSION/$SPARK_VERSION-bin-hadoop2.7.tgz\n",
        "!tar xf $SPARK_VERSION-bin-hadoop2.7.tgz\n",
        "!pip install -q findspark\n",
        "\n",
        "# Set Environment Variables\n",
        "import os\n",
        "os.environ[\"JAVA_HOME\"] = \"/usr/lib/jvm/java-11-openjdk-amd64\"\n",
        "os.environ[\"SPARK_HOME\"] = f\"/content/{spark_version}-bin-hadoop2.7\"\n",
        "\n",
        "# Start a SparkSession\n",
        "import findspark\n",
        "findspark.init()"
      ],
      "execution_count": 3,
      "outputs": [
        {
          "output_type": "stream",
          "name": "stdout",
          "text": [
            "Get:1 https://cloud.r-project.org/bin/linux/ubuntu bionic-cran40/ InRelease [3,626 B]\n",
            "Ign:2 https://developer.download.nvidia.com/compute/cuda/repos/ubuntu1804/x86_64  InRelease\n",
            "Get:3 http://security.ubuntu.com/ubuntu bionic-security InRelease [88.7 kB]\n",
            "Ign:4 https://developer.download.nvidia.com/compute/machine-learning/repos/ubuntu1804/x86_64  InRelease\n",
            "Hit:5 https://developer.download.nvidia.com/compute/cuda/repos/ubuntu1804/x86_64  Release\n",
            "Hit:6 https://developer.download.nvidia.com/compute/machine-learning/repos/ubuntu1804/x86_64  Release\n",
            "Hit:7 http://ppa.launchpad.net/c2d4u.team/c2d4u4.0+/ubuntu bionic InRelease\n",
            "Hit:8 http://archive.ubuntu.com/ubuntu bionic InRelease\n",
            "Get:9 https://cloud.r-project.org/bin/linux/ubuntu bionic-cran40/ Packages [69.5 kB]\n",
            "Get:10 http://archive.ubuntu.com/ubuntu bionic-updates InRelease [88.7 kB]\n",
            "Hit:13 http://ppa.launchpad.net/cran/libgit2/ubuntu bionic InRelease\n",
            "Hit:14 http://ppa.launchpad.net/deadsnakes/ppa/ubuntu bionic InRelease\n",
            "Get:15 http://archive.ubuntu.com/ubuntu bionic-backports InRelease [74.6 kB]\n",
            "Get:16 http://security.ubuntu.com/ubuntu bionic-security/universe amd64 Packages [1,431 kB]\n",
            "Hit:17 http://ppa.launchpad.net/graphics-drivers/ppa/ubuntu bionic InRelease\n",
            "Get:18 http://archive.ubuntu.com/ubuntu bionic-updates/restricted amd64 Packages [640 kB]\n",
            "Get:19 http://security.ubuntu.com/ubuntu bionic-security/restricted amd64 Packages [607 kB]\n",
            "Get:20 http://security.ubuntu.com/ubuntu bionic-security/main amd64 Packages [2,367 kB]\n",
            "Get:21 http://archive.ubuntu.com/ubuntu bionic-updates/universe amd64 Packages [2,210 kB]\n",
            "Get:22 http://archive.ubuntu.com/ubuntu bionic-updates/main amd64 Packages [2,803 kB]\n",
            "Fetched 10.4 MB in 4s (2,468 kB/s)\n",
            "Reading package lists... Done\n"
          ]
        }
      ]
    },
    {
      "cell_type": "code",
      "metadata": {
        "id": "_xKwTpATHqSe",
        "colab": {
          "base_uri": "https://localhost:8080/"
        },
        "outputId": "3808c79c-5e30-41f4-a830-0434f490b100"
      },
      "source": [
        "# Download the Postgres driver that will allow Spark to interact with Postgres.\n",
        "!wget https://jdbc.postgresql.org/download/postgresql-42.2.16.jar"
      ],
      "execution_count": 4,
      "outputs": [
        {
          "output_type": "stream",
          "name": "stdout",
          "text": [
            "--2021-10-17 18:28:51--  https://jdbc.postgresql.org/download/postgresql-42.2.16.jar\n",
            "Resolving jdbc.postgresql.org (jdbc.postgresql.org)... 72.32.157.228, 2001:4800:3e1:1::228\n",
            "Connecting to jdbc.postgresql.org (jdbc.postgresql.org)|72.32.157.228|:443... connected.\n",
            "HTTP request sent, awaiting response... 200 OK\n",
            "Length: 1002883 (979K) [application/java-archive]\n",
            "Saving to: ‘postgresql-42.2.16.jar.1’\n",
            "\n",
            "postgresql-42.2.16. 100%[===================>] 979.38K  1.22MB/s    in 0.8s    \n",
            "\n",
            "2021-10-17 18:28:53 (1.22 MB/s) - ‘postgresql-42.2.16.jar.1’ saved [1002883/1002883]\n",
            "\n"
          ]
        }
      ]
    },
    {
      "cell_type": "code",
      "metadata": {
        "id": "MMqDAjVS0KN9"
      },
      "source": [
        "from pyspark.sql import SparkSession\n",
        "spark = SparkSession.builder.appName(\"M16-Amazon-Challenge\").config(\"spark.driver.extraClassPath\",\"/content/postgresql-42.2.16.jar\").getOrCreate()"
      ],
      "execution_count": 5,
      "outputs": []
    },
    {
      "cell_type": "markdown",
      "metadata": {
        "id": "cyBsySGuY-9V"
      },
      "source": [
        "### Load Amazon Data into Spark DataFrame"
      ]
    },
    {
      "cell_type": "code",
      "metadata": {
        "id": "CtCmBhQJY-9Z",
        "colab": {
          "base_uri": "https://localhost:8080/"
        },
        "outputId": "1030f0f8-f120-4cf1-8aea-594a4546b1ca"
      },
      "source": [
        "# Read in data from S3 Buckets\n",
        "\n",
        "from pyspark import SparkFiles\n",
        "url = \"https://asmaaawsbucket.s3.amazonaws.com/amazon_reviews_us_Watches_v1_00.tsv.gz\"\n",
        "spark.sparkContext.addFile(url)\n",
        "df = spark.read.option(\"encoding\", \"UTF-8\").csv(SparkFiles.get(\"\"), sep=\"\\t\", header=True, inferSchema=True,timestampFormat=\"yyyy/MM/dd HH:mm:ss\")\n",
        "df.show()"
      ],
      "execution_count": 9,
      "outputs": [
        {
          "output_type": "stream",
          "name": "stdout",
          "text": [
            "+-----------+-----------+--------------+----------+--------------+--------------------+----------------+-----------+-------------+-----------+----+-----------------+--------------------+--------------------+-----------+\n",
            "|marketplace|customer_id|     review_id|product_id|product_parent|       product_title|product_category|star_rating|helpful_votes|total_votes|vine|verified_purchase|     review_headline|         review_body|review_date|\n",
            "+-----------+-----------+--------------+----------+--------------+--------------------+----------------+-----------+-------------+-----------+----+-----------------+--------------------+--------------------+-----------+\n",
            "|         US|    3653882|R3O9SGZBVQBV76|B00FALQ1ZC|     937001370|Invicta Women's 1...|         Watches|          5|            0|          0|   N|                Y|          Five Stars|Absolutely love t...| 2015-08-31|\n",
            "|         US|   14661224| RKH8BNC3L5DLF|B00D3RGO20|     484010722|Kenneth Cole New ...|         Watches|          5|            0|          0|   N|                Y|I love thiswatch ...|I love this watch...| 2015-08-31|\n",
            "|         US|   27324930|R2HLE8WKZSU3NL|B00DKYC7TK|     361166390|Ritche 22mm Black...|         Watches|          2|            1|          1|   N|                Y|           Two Stars|           Scratches| 2015-08-31|\n",
            "|         US|    7211452|R31U3UH5AZ42LL|B000EQS1JW|     958035625|Citizen Men's BM8...|         Watches|          5|            0|          0|   N|                Y|          Five Stars|It works well on ...| 2015-08-31|\n",
            "|         US|   12733322|R2SV659OUJ945Y|B00A6GFD7S|     765328221|Orient ER27009B M...|         Watches|          4|            0|          0|   N|                Y|Beautiful face, b...|Beautiful watch f...| 2015-08-31|\n",
            "|         US|    6576411| RA51CP8TR5A2L|B00EYSOSE8|     230493695|Casio Men's GW-94...|         Watches|          5|            0|          0|   N|                Y|       No complaints|i love this watch...| 2015-08-31|\n",
            "|         US|   11811565| RB2Q7DLDN6TH6|B00WM0QA3M|     549298279|Fossil Women's ES...|         Watches|          5|            1|          1|   N|                Y|          Five Stars|for my wife and s...| 2015-08-31|\n",
            "|         US|   49401598|R2RHFJV0UYBK3Y|B00A4EYBR0|     844009113|INFANTRY Mens Nig...|         Watches|          1|            1|          5|   N|                N|I was about to bu...|I was about to bu...| 2015-08-31|\n",
            "|         US|   45925069|R2Z6JOQ94LFHEP|B00MAMPGGE|     263720892|G-Shock Men's Gre...|         Watches|          5|            1|          2|   N|                Y|      Perfect watch!|Watch is perfect....| 2015-08-31|\n",
            "|         US|   44751341| RX27XIIWY5JPB|B004LBPB7Q|     124278407|Heiden Quad Watch...|         Watches|          4|            0|          0|   N|                Y|Great quality and...|Great quality and...| 2015-08-31|\n",
            "|         US|    9962330|R15C7QEZT0LGZN|B00KGTVGKS|      28017857|Fossil Women's ES...|         Watches|          4|            2|          2|   N|                Y|           Satisfied|The watch was pre...| 2015-08-31|\n",
            "|         US|   16097204|R361XSS37V0NCZ|B0039UT5OU|     685450910|Casio General Men...|         Watches|          1|            0|          0|   N|                N|I do not think th...|I bought this wat...| 2015-08-31|\n",
            "|         US|   51330346| ROTNLALUAJAUB|B00MPF0XJQ|     767769082|2Tone Gold Silver...|         Watches|          3|            0|          0|   N|                Y|         Three Stars|It is a cheap wat...| 2015-08-31|\n",
            "|         US|    4201739|R2DYX7QU6BGOHR|B003P1OHHS|     648595227|Bulova Men's 98B1...|         Watches|          5|            0|          0|   N|                Y|          Five Stars|Heavier than i th...| 2015-08-31|\n",
            "|         US|   26339765| RWASY7FKI7QOT|B00R70YEOE|     457338020|Casio - G-Shock -...|         Watches|          5|            2|          3|   N|                Y|  Worth it - love it|Had it for severa...| 2015-08-31|\n",
            "|         US|    2692576|R2KKYZIN3CCL21|B000FVE3BG|     824370661|Invicta Men's 332...|         Watches|          5|            0|          0|   N|                Y|This is when diff...|This one is diffe...| 2015-08-31|\n",
            "|         US|   44713366|R22H4FGVD5O52O|B008X6JB12|     814431355|Seiko Women's SUT...|         Watches|          4|            1|          1|   N|                Y|Thewatch is attra...|The watch is attr...| 2015-08-31|\n",
            "|         US|   32778769|R11UACZERCM4ZY|B0040UOFPW|     187700878|Anne Klein Women'...|         Watches|          5|            0|          0|   N|                Y|          Five Stars|      said my wife..| 2015-08-31|\n",
            "|         US|   27258523|R1AT8NQ38UQOL6|B00UR2R5UY|     594315262|Guess U13630G1 Me...|         Watches|          5|            0|          0|   N|                Y|          Five Stars|Nice watch, on ti...| 2015-08-31|\n",
            "|         US|   42646538|R2NCZRQGIF1Q75|B00HFF57L0|     520810507|Nixon Men's Geo V...|         Watches|          4|            0|          0|   N|                Y|        Very stylish|Looks great and l...| 2015-08-31|\n",
            "+-----------+-----------+--------------+----------+--------------+--------------------+----------------+-----------+-------------+-----------+----+-----------------+--------------------+--------------------+-----------+\n",
            "only showing top 20 rows\n",
            "\n"
          ]
        }
      ]
    },
    {
      "cell_type": "markdown",
      "metadata": {
        "id": "2yUSe55VY-9t"
      },
      "source": [
        "### Create DataFrames to match tables"
      ]
    },
    {
      "cell_type": "code",
      "metadata": {
        "id": "C8REmY1aY-9u"
      },
      "source": [
        "from pyspark.sql.functions import to_date\n",
        "# Read in the Review dataset as a DataFrame\n"
      ],
      "execution_count": 10,
      "outputs": []
    },
    {
      "cell_type": "code",
      "metadata": {
        "id": "B0TESUDRY-90",
        "colab": {
          "base_uri": "https://localhost:8080/"
        },
        "outputId": "d489bdb4-181e-4102-94a9-5631066a9079"
      },
      "source": [
        "# Create the customers_table DataFrame\n",
        "customers_df = df.groupby(\"customer_id\").agg({\"customer_id\":\"count\"}).withColumnRenamed(\"count(customer_id)\", \"customer_count\")\n",
        "\n",
        "customers_df.show()\n"
      ],
      "execution_count": 11,
      "outputs": [
        {
          "output_type": "stream",
          "name": "stdout",
          "text": [
            "+-----------+--------------+\n",
            "|customer_id|customer_count|\n",
            "+-----------+--------------+\n",
            "|    1567510|             1|\n",
            "|   19502021|             1|\n",
            "|   12819130|             1|\n",
            "|   35329257|             2|\n",
            "|     108460|             1|\n",
            "|    5453476|             1|\n",
            "|   29913055|             1|\n",
            "|   30717305|             1|\n",
            "|    1570030|             1|\n",
            "|   19032020|             1|\n",
            "|   44178035|             1|\n",
            "|   26079415|             2|\n",
            "|   14230926|             1|\n",
            "|   43478048|             2|\n",
            "|   43694941|             1|\n",
            "|   12318815|             3|\n",
            "|   13731855|             1|\n",
            "|     740134|             1|\n",
            "|   41956754|             1|\n",
            "|   20324070|             3|\n",
            "+-----------+--------------+\n",
            "only showing top 20 rows\n",
            "\n"
          ]
        }
      ]
    },
    {
      "cell_type": "code",
      "metadata": {
        "id": "4FwXA6UvY-96",
        "colab": {
          "base_uri": "https://localhost:8080/"
        },
        "outputId": "2b9ec82d-ace6-4d60-adb5-71173332f235"
      },
      "source": [
        "# Create the products_table DataFrame and drop duplicates. \n",
        "products_df = df.select([\"product_id\",\"product_title\"]).drop_duplicates(subset=[\"product_id\"])\n",
        "products_df.show()"
      ],
      "execution_count": 12,
      "outputs": [
        {
          "output_type": "stream",
          "name": "stdout",
          "text": [
            "+----------+--------------------+\n",
            "|product_id|       product_title|\n",
            "+----------+--------------------+\n",
            "|B00006I5XQ|TIMEX Men's 20001...|\n",
            "|B00020J0V8|Timex Indiglo Dre...|\n",
            "|B000248XD0|Time Teaching Wat...|\n",
            "|B00024WC7S|Voguestrap TX4831...|\n",
            "|B000276I02|Men's Seiko Autom...|\n",
            "|B0002FQI3G|Raymond Weil Pars...|\n",
            "|B0002IKP78|CITIZEN Men's Sta...|\n",
            "|B0002KH402|Timex Ironman Dat...|\n",
            "|B0002M9RP0|TIMEX Women's Two...|\n",
            "|B0002MQPKA|Disney Ladies Gol...|\n",
            "|B0002P44YQ|Accutron Oxford W...|\n",
            "|B0002UFBOS|Kenneth Cole Ladi...|\n",
            "|B000673UBI|Avalon Coach Seri...|\n",
            "|B00068TJ7G|Seiko Men's SKH04...|\n",
            "|B0006BC5AQ|Timex T2B641 (Uni...|\n",
            "|B0006GN9BA|Invicta Midsize F...|\n",
            "|B0006HGNDA|Avalon Womens Lux...|\n",
            "|B0006MFAWK|Nike Presto Sport...|\n",
            "|B0006MT62U|Longines Dolce Vi...|\n",
            "|B00075U5KI|Invicta Men's 008...|\n",
            "+----------+--------------------+\n",
            "only showing top 20 rows\n",
            "\n"
          ]
        }
      ]
    },
    {
      "cell_type": "code",
      "metadata": {
        "id": "MkqyCuNQY-9-",
        "colab": {
          "base_uri": "https://localhost:8080/"
        },
        "outputId": "dcf6a752-5fc7-4237-d6c0-4a82f4af15a2"
      },
      "source": [
        "# Create the review_id_table DataFrame. \n",
        "\n",
        "# Convert the 'review_date' column to a date datatype with to_date(\"review_date\", 'yyyy-MM-dd').alias(\"review_date\")\n",
        "review_id_df = df.select([\"review_id\",\"customer_id\",\"product_id\",\"product_parent\", to_date(\"review_date\", 'yyyy-MM-dd').alias(\"review_date\")])\n",
        "review_id_df.show()"
      ],
      "execution_count": 13,
      "outputs": [
        {
          "output_type": "stream",
          "name": "stdout",
          "text": [
            "+--------------+-----------+----------+--------------+-----------+\n",
            "|     review_id|customer_id|product_id|product_parent|review_date|\n",
            "+--------------+-----------+----------+--------------+-----------+\n",
            "|R3O9SGZBVQBV76|    3653882|B00FALQ1ZC|     937001370| 2015-08-31|\n",
            "| RKH8BNC3L5DLF|   14661224|B00D3RGO20|     484010722| 2015-08-31|\n",
            "|R2HLE8WKZSU3NL|   27324930|B00DKYC7TK|     361166390| 2015-08-31|\n",
            "|R31U3UH5AZ42LL|    7211452|B000EQS1JW|     958035625| 2015-08-31|\n",
            "|R2SV659OUJ945Y|   12733322|B00A6GFD7S|     765328221| 2015-08-31|\n",
            "| RA51CP8TR5A2L|    6576411|B00EYSOSE8|     230493695| 2015-08-31|\n",
            "| RB2Q7DLDN6TH6|   11811565|B00WM0QA3M|     549298279| 2015-08-31|\n",
            "|R2RHFJV0UYBK3Y|   49401598|B00A4EYBR0|     844009113| 2015-08-31|\n",
            "|R2Z6JOQ94LFHEP|   45925069|B00MAMPGGE|     263720892| 2015-08-31|\n",
            "| RX27XIIWY5JPB|   44751341|B004LBPB7Q|     124278407| 2015-08-31|\n",
            "|R15C7QEZT0LGZN|    9962330|B00KGTVGKS|      28017857| 2015-08-31|\n",
            "|R361XSS37V0NCZ|   16097204|B0039UT5OU|     685450910| 2015-08-31|\n",
            "| ROTNLALUAJAUB|   51330346|B00MPF0XJQ|     767769082| 2015-08-31|\n",
            "|R2DYX7QU6BGOHR|    4201739|B003P1OHHS|     648595227| 2015-08-31|\n",
            "| RWASY7FKI7QOT|   26339765|B00R70YEOE|     457338020| 2015-08-31|\n",
            "|R2KKYZIN3CCL21|    2692576|B000FVE3BG|     824370661| 2015-08-31|\n",
            "|R22H4FGVD5O52O|   44713366|B008X6JB12|     814431355| 2015-08-31|\n",
            "|R11UACZERCM4ZY|   32778769|B0040UOFPW|     187700878| 2015-08-31|\n",
            "|R1AT8NQ38UQOL6|   27258523|B00UR2R5UY|     594315262| 2015-08-31|\n",
            "|R2NCZRQGIF1Q75|   42646538|B00HFF57L0|     520810507| 2015-08-31|\n",
            "+--------------+-----------+----------+--------------+-----------+\n",
            "only showing top 20 rows\n",
            "\n"
          ]
        }
      ]
    },
    {
      "cell_type": "code",
      "metadata": {
        "id": "lzMmkdKmY--D",
        "colab": {
          "base_uri": "https://localhost:8080/"
        },
        "outputId": "f06efefe-2e8b-4e3c-bdb8-0dda71b8be12"
      },
      "source": [
        "# Create the vine_table. DataFrame\n",
        "vine_df = df.select([\"review_id\",\"star_rating\",\"helpful_votes\",\"total_votes\",\"vine\",\"verified_purchase\"])\n",
        "vine_df.show()"
      ],
      "execution_count": 14,
      "outputs": [
        {
          "output_type": "stream",
          "name": "stdout",
          "text": [
            "+--------------+-----------+-------------+-----------+----+-----------------+\n",
            "|     review_id|star_rating|helpful_votes|total_votes|vine|verified_purchase|\n",
            "+--------------+-----------+-------------+-----------+----+-----------------+\n",
            "|R3O9SGZBVQBV76|          5|            0|          0|   N|                Y|\n",
            "| RKH8BNC3L5DLF|          5|            0|          0|   N|                Y|\n",
            "|R2HLE8WKZSU3NL|          2|            1|          1|   N|                Y|\n",
            "|R31U3UH5AZ42LL|          5|            0|          0|   N|                Y|\n",
            "|R2SV659OUJ945Y|          4|            0|          0|   N|                Y|\n",
            "| RA51CP8TR5A2L|          5|            0|          0|   N|                Y|\n",
            "| RB2Q7DLDN6TH6|          5|            1|          1|   N|                Y|\n",
            "|R2RHFJV0UYBK3Y|          1|            1|          5|   N|                N|\n",
            "|R2Z6JOQ94LFHEP|          5|            1|          2|   N|                Y|\n",
            "| RX27XIIWY5JPB|          4|            0|          0|   N|                Y|\n",
            "|R15C7QEZT0LGZN|          4|            2|          2|   N|                Y|\n",
            "|R361XSS37V0NCZ|          1|            0|          0|   N|                N|\n",
            "| ROTNLALUAJAUB|          3|            0|          0|   N|                Y|\n",
            "|R2DYX7QU6BGOHR|          5|            0|          0|   N|                Y|\n",
            "| RWASY7FKI7QOT|          5|            2|          3|   N|                Y|\n",
            "|R2KKYZIN3CCL21|          5|            0|          0|   N|                Y|\n",
            "|R22H4FGVD5O52O|          4|            1|          1|   N|                Y|\n",
            "|R11UACZERCM4ZY|          5|            0|          0|   N|                Y|\n",
            "|R1AT8NQ38UQOL6|          5|            0|          0|   N|                Y|\n",
            "|R2NCZRQGIF1Q75|          4|            0|          0|   N|                Y|\n",
            "+--------------+-----------+-------------+-----------+----+-----------------+\n",
            "only showing top 20 rows\n",
            "\n"
          ]
        }
      ]
    },
    {
      "cell_type": "code",
      "metadata": {
        "id": "Exuo6ebUsCqW",
        "colab": {
          "base_uri": "https://localhost:8080/"
        },
        "outputId": "e943cea1-608d-4c21-b5c9-01bd03688a50"
      },
      "source": [
        "\n",
        "\n",
        "from pyspark.sql.functions import col\n",
        "\n",
        "#create a new DataFrame to retrieve all the rows where the total_votes count is equal to or greater than 20:\n",
        "df1=vine_df.filter(col(\"total_votes\")>=20)\n",
        "df1.show()\n"
      ],
      "execution_count": 47,
      "outputs": [
        {
          "output_type": "stream",
          "name": "stdout",
          "text": [
            "+--------------+-----------+-------------+-----------+----+-----------------+\n",
            "|     review_id|star_rating|helpful_votes|total_votes|vine|verified_purchase|\n",
            "+--------------+-----------+-------------+-----------+----+-----------------+\n",
            "|R14W2VCHHK5V7W|          5|           19|         20|   N|                Y|\n",
            "|R1S3T57O3OYT5S|          5|           19|         20|   N|                Y|\n",
            "|R1BTWIBLYYVOV7|          5|           30|         30|   N|                Y|\n",
            "| R6F9VY91ADPLA|          1|            8|         30|   N|                N|\n",
            "|R3PXNV89DFIXKV|          5|           35|         37|   N|                Y|\n",
            "|R2ZF9NYVT3J7D6|          5|           19|         22|   N|                Y|\n",
            "|R20NYA5V0UF9NE|          5|           27|         28|   N|                Y|\n",
            "|R2X8FZRUOS8R8C|          4|           25|         26|   N|                Y|\n",
            "|R2D8IMBVX3XCLF|          1|           14|         20|   N|                Y|\n",
            "|R25UD9TA63L3Q8|          5|           25|         27|   N|                Y|\n",
            "|R2RB1HML8N712P|          5|           26|         28|   N|                Y|\n",
            "| ROXA8XP5EI2KK|          5|           48|         49|   N|                N|\n",
            "|R149IHTGGSRGX9|          5|           19|         20|   N|                Y|\n",
            "|R1B7M0OP3UNP6O|          5|           49|         52|   Y|                N|\n",
            "|R2N92CUM7WBA1A|          5|           27|         28|   N|                Y|\n",
            "|R2TAFZNG4KHFQB|          4|           24|         24|   N|                Y|\n",
            "| RNRFACS48ZE4A|          5|           21|         21|   N|                Y|\n",
            "|R2PO5QTLXJ9LHG|          5|           33|         46|   N|                N|\n",
            "|R38KDT041DRMIN|          5|           19|         24|   N|                Y|\n",
            "|R2MNPDWCA42I4G|          1|           17|         20|   N|                N|\n",
            "+--------------+-----------+-------------+-----------+----+-----------------+\n",
            "only showing top 20 rows\n",
            "\n"
          ]
        }
      ]
    },
    {
      "cell_type": "code",
      "metadata": {
        "colab": {
          "base_uri": "https://localhost:8080/"
        },
        "id": "WBsH5mfYtC3u",
        "outputId": "57815ec2-a66a-4c53-c592-bd8dedb99981"
      },
      "source": [
        "df1.count()"
      ],
      "execution_count": 24,
      "outputs": [
        {
          "output_type": "execute_result",
          "data": {
            "text/plain": [
              "9631"
            ]
          },
          "metadata": {},
          "execution_count": 24
        }
      ]
    },
    {
      "cell_type": "code",
      "metadata": {
        "colab": {
          "base_uri": "https://localhost:8080/"
        },
        "id": "9Myeso2JnM6y",
        "outputId": "119b7865-09a3-4fcd-8b2c-83629d4d8b49"
      },
      "source": [
        "# Filter df1 and create a new DataFrame to retrieve all the rows where the number of \"helpful_votes\" divided by \"total_votes\" is equal to or greater than 50%.\n",
        "df2=df1.filter((col(\"helpful_votes\"))/(col(\"total_votes\"))>=0.5)\n",
        "df2.show()"
      ],
      "execution_count": 23,
      "outputs": [
        {
          "output_type": "stream",
          "name": "stdout",
          "text": [
            "+--------------+-----------+-------------+-----------+----+-----------------+\n",
            "|     review_id|star_rating|helpful_votes|total_votes|vine|verified_purchase|\n",
            "+--------------+-----------+-------------+-----------+----+-----------------+\n",
            "|R14W2VCHHK5V7W|          5|           19|         20|   N|                Y|\n",
            "|R1S3T57O3OYT5S|          5|           19|         20|   N|                Y|\n",
            "|R1BTWIBLYYVOV7|          5|           30|         30|   N|                Y|\n",
            "|R3PXNV89DFIXKV|          5|           35|         37|   N|                Y|\n",
            "|R2ZF9NYVT3J7D6|          5|           19|         22|   N|                Y|\n",
            "|R20NYA5V0UF9NE|          5|           27|         28|   N|                Y|\n",
            "|R2X8FZRUOS8R8C|          4|           25|         26|   N|                Y|\n",
            "|R2D8IMBVX3XCLF|          1|           14|         20|   N|                Y|\n",
            "|R25UD9TA63L3Q8|          5|           25|         27|   N|                Y|\n",
            "|R2RB1HML8N712P|          5|           26|         28|   N|                Y|\n",
            "| ROXA8XP5EI2KK|          5|           48|         49|   N|                N|\n",
            "|R149IHTGGSRGX9|          5|           19|         20|   N|                Y|\n",
            "|R1B7M0OP3UNP6O|          5|           49|         52|   Y|                N|\n",
            "|R2N92CUM7WBA1A|          5|           27|         28|   N|                Y|\n",
            "|R2TAFZNG4KHFQB|          4|           24|         24|   N|                Y|\n",
            "| RNRFACS48ZE4A|          5|           21|         21|   N|                Y|\n",
            "|R2PO5QTLXJ9LHG|          5|           33|         46|   N|                N|\n",
            "|R38KDT041DRMIN|          5|           19|         24|   N|                Y|\n",
            "|R2MNPDWCA42I4G|          1|           17|         20|   N|                N|\n",
            "|R3F3KMKY26K620|          4|           25|         26|   N|                Y|\n",
            "+--------------+-----------+-------------+-----------+----+-----------------+\n",
            "only showing top 20 rows\n",
            "\n"
          ]
        }
      ]
    },
    {
      "cell_type": "code",
      "metadata": {
        "colab": {
          "base_uri": "https://localhost:8080/"
        },
        "id": "gBR38kXYtPrH",
        "outputId": "6dd71056-90cd-4ec3-87b7-a207490a692e"
      },
      "source": [
        "df2.count()"
      ],
      "execution_count": 25,
      "outputs": [
        {
          "output_type": "execute_result",
          "data": {
            "text/plain": [
              "8409"
            ]
          },
          "metadata": {},
          "execution_count": 25
        }
      ]
    },
    {
      "cell_type": "code",
      "metadata": {
        "colab": {
          "base_uri": "https://localhost:8080/"
        },
        "id": "Wyh7Ox_cpSTU",
        "outputId": "31467d5f-64d3-48f7-a08e-698736a8225f"
      },
      "source": [
        "# Filter df2 to create a new DataFrame that retrieves all the rows where a review was written as part of the Vine program (paid), vine == 'Y'.\n",
        "df3_Y=df2.filter(col(\"vine\") == 'Y')\n",
        "df3_Y.show()"
      ],
      "execution_count": 31,
      "outputs": [
        {
          "output_type": "stream",
          "name": "stdout",
          "text": [
            "+--------------+-----------+-------------+-----------+----+-----------------+\n",
            "|     review_id|star_rating|helpful_votes|total_votes|vine|verified_purchase|\n",
            "+--------------+-----------+-------------+-----------+----+-----------------+\n",
            "|R1B7M0OP3UNP6O|          5|           49|         52|   Y|                N|\n",
            "|R2UUV4UGGYMQG8|          5|           34|         39|   Y|                N|\n",
            "| R9K0LZV2BK9YY|          4|           37|         39|   Y|                N|\n",
            "|R2OVFLNEUEGTJM|          3|           18|         25|   Y|                N|\n",
            "| RBE09ELJ77LQ0|          5|           44|         45|   Y|                N|\n",
            "|R3867T8AIJJHM6|          5|           26|         27|   Y|                N|\n",
            "|R1FNVUXPU63WOZ|          4|           43|         48|   Y|                N|\n",
            "|R25XGG2G12SE1Z|          4|           20|         23|   Y|                N|\n",
            "| R3JKU4HRDFZDH|          4|           27|         30|   Y|                N|\n",
            "|R2PQYOCJXRB1BF|          5|           26|         28|   Y|                N|\n",
            "|R1JBQ8UBLA8N4X|          4|          349|        370|   Y|                N|\n",
            "|R2I01ZYMO0GYP1|          4|          107|        121|   Y|                N|\n",
            "|R297GF8EF7AXPO|          2|           22|         30|   Y|                N|\n",
            "|R2OFG89WKPLHGU|          5|           54|         60|   Y|                N|\n",
            "|R13PI8O4697CEV|          4|          135|        144|   Y|                N|\n",
            "|R223MX62JYWUOY|          4|           20|         21|   Y|                N|\n",
            "| RTSXZ0HZF623M|          3|           13|         22|   Y|                N|\n",
            "|R1OB4GCKEYGV9I|          4|           61|         90|   Y|                N|\n",
            "|R1YBNRRUD5WCG4|          5|           15|         20|   Y|                N|\n",
            "|R3L4Z6NK2Z4OV5|          2|           24|         33|   Y|                N|\n",
            "+--------------+-----------+-------------+-----------+----+-----------------+\n",
            "only showing top 20 rows\n",
            "\n"
          ]
        }
      ]
    },
    {
      "cell_type": "code",
      "metadata": {
        "colab": {
          "base_uri": "https://localhost:8080/"
        },
        "id": "sZh9bbbSt1Kw",
        "outputId": "813f1a49-9147-4b06-eb59-bb32005c6aa6"
      },
      "source": [
        "df3_Y.count()"
      ],
      "execution_count": 32,
      "outputs": [
        {
          "output_type": "execute_result",
          "data": {
            "text/plain": [
              "47"
            ]
          },
          "metadata": {},
          "execution_count": 32
        }
      ]
    },
    {
      "cell_type": "code",
      "metadata": {
        "colab": {
          "base_uri": "https://localhost:8080/"
        },
        "id": "RMIhLrvAt-H-",
        "outputId": "8bbf8759-85a0-4632-de32-e7ae63f650f2"
      },
      "source": [
        "# Filter df2 to create a new DataFrame that retrieves all the rows where a review was written as part of the Vine program (paid), vine == 'N'.\n",
        "df3_N=df2.filter(col(\"vine\") == 'N')\n",
        "df3_N.show()"
      ],
      "execution_count": 29,
      "outputs": [
        {
          "output_type": "stream",
          "name": "stdout",
          "text": [
            "+--------------+-----------+-------------+-----------+----+-----------------+\n",
            "|     review_id|star_rating|helpful_votes|total_votes|vine|verified_purchase|\n",
            "+--------------+-----------+-------------+-----------+----+-----------------+\n",
            "|R14W2VCHHK5V7W|          5|           19|         20|   N|                Y|\n",
            "|R1S3T57O3OYT5S|          5|           19|         20|   N|                Y|\n",
            "|R1BTWIBLYYVOV7|          5|           30|         30|   N|                Y|\n",
            "|R3PXNV89DFIXKV|          5|           35|         37|   N|                Y|\n",
            "|R2ZF9NYVT3J7D6|          5|           19|         22|   N|                Y|\n",
            "|R20NYA5V0UF9NE|          5|           27|         28|   N|                Y|\n",
            "|R2X8FZRUOS8R8C|          4|           25|         26|   N|                Y|\n",
            "|R2D8IMBVX3XCLF|          1|           14|         20|   N|                Y|\n",
            "|R25UD9TA63L3Q8|          5|           25|         27|   N|                Y|\n",
            "|R2RB1HML8N712P|          5|           26|         28|   N|                Y|\n",
            "| ROXA8XP5EI2KK|          5|           48|         49|   N|                N|\n",
            "|R149IHTGGSRGX9|          5|           19|         20|   N|                Y|\n",
            "|R2N92CUM7WBA1A|          5|           27|         28|   N|                Y|\n",
            "|R2TAFZNG4KHFQB|          4|           24|         24|   N|                Y|\n",
            "| RNRFACS48ZE4A|          5|           21|         21|   N|                Y|\n",
            "|R2PO5QTLXJ9LHG|          5|           33|         46|   N|                N|\n",
            "|R38KDT041DRMIN|          5|           19|         24|   N|                Y|\n",
            "|R2MNPDWCA42I4G|          1|           17|         20|   N|                N|\n",
            "|R3F3KMKY26K620|          4|           25|         26|   N|                Y|\n",
            "|R2PU32HT6X9DOM|          5|           23|         24|   N|                Y|\n",
            "+--------------+-----------+-------------+-----------+----+-----------------+\n",
            "only showing top 20 rows\n",
            "\n"
          ]
        }
      ]
    },
    {
      "cell_type": "code",
      "metadata": {
        "colab": {
          "base_uri": "https://localhost:8080/"
        },
        "id": "u7_U5N5UuFmN",
        "outputId": "de4f3204-5ef6-4d34-b330-f2b1d06ad747"
      },
      "source": [
        "df3_N.count()"
      ],
      "execution_count": 33,
      "outputs": [
        {
          "output_type": "execute_result",
          "data": {
            "text/plain": [
              "8362"
            ]
          },
          "metadata": {},
          "execution_count": 33
        }
      ]
    },
    {
      "cell_type": "code",
      "metadata": {
        "colab": {
          "base_uri": "https://localhost:8080/"
        },
        "id": "WrWXyNSFu7gI",
        "outputId": "3752b502-8803-46a2-cb99-02bfa8256fe5"
      },
      "source": [
        "#Determine the total number of reviews:\n",
        "total_reviews=df3_Y.count()+df3_N.count()\n",
        "total_reviews\n",
        "\n",
        "#total reviews = df2 =8409"
      ],
      "execution_count": 71,
      "outputs": [
        {
          "output_type": "execute_result",
          "data": {
            "text/plain": [
              "8409"
            ]
          },
          "metadata": {},
          "execution_count": 71
        }
      ]
    },
    {
      "cell_type": "code",
      "metadata": {
        "colab": {
          "base_uri": "https://localhost:8080/"
        },
        "id": "TNgXqfSSvz62",
        "outputId": "38eddb4c-30a2-4902-9145-744d9d3fe095"
      },
      "source": [
        "#Determine the number of 5-star reviews:\n",
        "five_star_reviews=df2.filter(col(\"star_rating\")==5)\n",
        "five_star_reviews.show()"
      ],
      "execution_count": 50,
      "outputs": [
        {
          "output_type": "stream",
          "name": "stdout",
          "text": [
            "+--------------+-----------+-------------+-----------+----+-----------------+\n",
            "|     review_id|star_rating|helpful_votes|total_votes|vine|verified_purchase|\n",
            "+--------------+-----------+-------------+-----------+----+-----------------+\n",
            "|R14W2VCHHK5V7W|          5|           19|         20|   N|                Y|\n",
            "|R1S3T57O3OYT5S|          5|           19|         20|   N|                Y|\n",
            "|R1BTWIBLYYVOV7|          5|           30|         30|   N|                Y|\n",
            "|R3PXNV89DFIXKV|          5|           35|         37|   N|                Y|\n",
            "|R2ZF9NYVT3J7D6|          5|           19|         22|   N|                Y|\n",
            "|R20NYA5V0UF9NE|          5|           27|         28|   N|                Y|\n",
            "|R25UD9TA63L3Q8|          5|           25|         27|   N|                Y|\n",
            "|R2RB1HML8N712P|          5|           26|         28|   N|                Y|\n",
            "| ROXA8XP5EI2KK|          5|           48|         49|   N|                N|\n",
            "|R149IHTGGSRGX9|          5|           19|         20|   N|                Y|\n",
            "|R1B7M0OP3UNP6O|          5|           49|         52|   Y|                N|\n",
            "|R2N92CUM7WBA1A|          5|           27|         28|   N|                Y|\n",
            "| RNRFACS48ZE4A|          5|           21|         21|   N|                Y|\n",
            "|R2PO5QTLXJ9LHG|          5|           33|         46|   N|                N|\n",
            "|R38KDT041DRMIN|          5|           19|         24|   N|                Y|\n",
            "|R2PU32HT6X9DOM|          5|           23|         24|   N|                Y|\n",
            "|R1E96GHLGQ5H9D|          5|           22|         22|   N|                Y|\n",
            "|R33BKAVFS3HJ97|          5|           22|         23|   N|                N|\n",
            "| R3BFHNMC7PBKS|          5|           26|         28|   N|                Y|\n",
            "|R3G6S19I8AUY52|          5|           33|         36|   N|                Y|\n",
            "+--------------+-----------+-------------+-----------+----+-----------------+\n",
            "only showing top 20 rows\n",
            "\n"
          ]
        }
      ]
    },
    {
      "cell_type": "code",
      "metadata": {
        "colab": {
          "base_uri": "https://localhost:8080/"
        },
        "id": "DrVOZOxn2uJs",
        "outputId": "22b81338-a405-4fa0-a52e-2c903a3f32c4"
      },
      "source": [
        "five_star_reviews.count()"
      ],
      "execution_count": 51,
      "outputs": [
        {
          "output_type": "execute_result",
          "data": {
            "text/plain": [
              "4347"
            ]
          },
          "metadata": {},
          "execution_count": 51
        }
      ]
    },
    {
      "cell_type": "code",
      "metadata": {
        "colab": {
          "base_uri": "https://localhost:8080/"
        },
        "id": "208dv7D6vNGU",
        "outputId": "4e5bffc0-f644-42da-9900-04a1f437e498"
      },
      "source": [
        "#Determine the percentage of 5-star reviews for the two types of review (paid & unpaid)\n",
        "\n",
        "five_star_reviews_paid=df3_Y.filter(col(\"star_rating\")==5)\n",
        "five_star_reviews_paid.show()"
      ],
      "execution_count": 55,
      "outputs": [
        {
          "output_type": "stream",
          "name": "stdout",
          "text": [
            "+--------------+-----------+-------------+-----------+----+-----------------+\n",
            "|     review_id|star_rating|helpful_votes|total_votes|vine|verified_purchase|\n",
            "+--------------+-----------+-------------+-----------+----+-----------------+\n",
            "|R1B7M0OP3UNP6O|          5|           49|         52|   Y|                N|\n",
            "|R2UUV4UGGYMQG8|          5|           34|         39|   Y|                N|\n",
            "| RBE09ELJ77LQ0|          5|           44|         45|   Y|                N|\n",
            "|R3867T8AIJJHM6|          5|           26|         27|   Y|                N|\n",
            "|R2PQYOCJXRB1BF|          5|           26|         28|   Y|                N|\n",
            "|R2OFG89WKPLHGU|          5|           54|         60|   Y|                N|\n",
            "|R1YBNRRUD5WCG4|          5|           15|         20|   Y|                N|\n",
            "|R33Y1P0VTKF46V|          5|           18|         22|   Y|                N|\n",
            "|R2VUWQQBXC9MW9|          5|           47|         51|   Y|                N|\n",
            "|R2PGKWCC0DJNO4|          5|           23|         24|   Y|                N|\n",
            "|R1VPI6UTL1K31V|          5|           27|         29|   Y|                N|\n",
            "| RMEMUGWUX63KU|          5|           34|         36|   Y|                N|\n",
            "|R3TZBND29248V0|          5|           66|         71|   Y|                N|\n",
            "| R5G8T9UNLDU5A|          5|           44|         44|   Y|                N|\n",
            "|R33HPSRJ5K3RHP|          5|           19|         22|   Y|                N|\n",
            "+--------------+-----------+-------------+-----------+----+-----------------+\n",
            "\n"
          ]
        }
      ]
    },
    {
      "cell_type": "code",
      "metadata": {
        "colab": {
          "base_uri": "https://localhost:8080/"
        },
        "id": "qZFBodBy37gy",
        "outputId": "fd653530-98d2-4132-df8f-2b0bda70b59c"
      },
      "source": [
        "five_star_reviews_paid.count()"
      ],
      "execution_count": 56,
      "outputs": [
        {
          "output_type": "execute_result",
          "data": {
            "text/plain": [
              "15"
            ]
          },
          "metadata": {},
          "execution_count": 56
        }
      ]
    },
    {
      "cell_type": "code",
      "metadata": {
        "colab": {
          "base_uri": "https://localhost:8080/"
        },
        "id": "jGuGD1od3JUD",
        "outputId": "35cf5b57-2812-4c08-cf2e-68e6c57d7fe9"
      },
      "source": [
        "five_star_reviews_unpaid=df3_N.filter(col(\"star_rating\")==5)\n",
        "five_star_reviews_unpaid.show()"
      ],
      "execution_count": 57,
      "outputs": [
        {
          "output_type": "stream",
          "name": "stdout",
          "text": [
            "+--------------+-----------+-------------+-----------+----+-----------------+\n",
            "|     review_id|star_rating|helpful_votes|total_votes|vine|verified_purchase|\n",
            "+--------------+-----------+-------------+-----------+----+-----------------+\n",
            "|R14W2VCHHK5V7W|          5|           19|         20|   N|                Y|\n",
            "|R1S3T57O3OYT5S|          5|           19|         20|   N|                Y|\n",
            "|R1BTWIBLYYVOV7|          5|           30|         30|   N|                Y|\n",
            "|R3PXNV89DFIXKV|          5|           35|         37|   N|                Y|\n",
            "|R2ZF9NYVT3J7D6|          5|           19|         22|   N|                Y|\n",
            "|R20NYA5V0UF9NE|          5|           27|         28|   N|                Y|\n",
            "|R25UD9TA63L3Q8|          5|           25|         27|   N|                Y|\n",
            "|R2RB1HML8N712P|          5|           26|         28|   N|                Y|\n",
            "| ROXA8XP5EI2KK|          5|           48|         49|   N|                N|\n",
            "|R149IHTGGSRGX9|          5|           19|         20|   N|                Y|\n",
            "|R2N92CUM7WBA1A|          5|           27|         28|   N|                Y|\n",
            "| RNRFACS48ZE4A|          5|           21|         21|   N|                Y|\n",
            "|R2PO5QTLXJ9LHG|          5|           33|         46|   N|                N|\n",
            "|R38KDT041DRMIN|          5|           19|         24|   N|                Y|\n",
            "|R2PU32HT6X9DOM|          5|           23|         24|   N|                Y|\n",
            "|R1E96GHLGQ5H9D|          5|           22|         22|   N|                Y|\n",
            "|R33BKAVFS3HJ97|          5|           22|         23|   N|                N|\n",
            "| R3BFHNMC7PBKS|          5|           26|         28|   N|                Y|\n",
            "|R3G6S19I8AUY52|          5|           33|         36|   N|                Y|\n",
            "|R3DRNQOUII2XD0|          5|           40|         41|   N|                Y|\n",
            "+--------------+-----------+-------------+-----------+----+-----------------+\n",
            "only showing top 20 rows\n",
            "\n"
          ]
        }
      ]
    },
    {
      "cell_type": "code",
      "metadata": {
        "colab": {
          "base_uri": "https://localhost:8080/"
        },
        "id": "oGtg6QGt4S3J",
        "outputId": "8c5ac396-4581-46aa-a2ec-85a9b7990024"
      },
      "source": [
        "five_star_reviews_unpaid.count()"
      ],
      "execution_count": 58,
      "outputs": [
        {
          "output_type": "execute_result",
          "data": {
            "text/plain": [
              "4332"
            ]
          },
          "metadata": {},
          "execution_count": 58
        }
      ]
    },
    {
      "cell_type": "code",
      "metadata": {
        "colab": {
          "base_uri": "https://localhost:8080/"
        },
        "id": "vpIoWOGk4Vkd",
        "outputId": "7ffb399c-8d01-4913-c98e-2fb6eca0e4d0"
      },
      "source": [
        "# 1-the percentage of 5-star reviews for paid reviews:\n",
        "five_star_reviews_paid.count()/five_star_reviews.count()"
      ],
      "execution_count": 61,
      "outputs": [
        {
          "output_type": "execute_result",
          "data": {
            "text/plain": [
              "0.003450655624568668"
            ]
          },
          "metadata": {},
          "execution_count": 61
        }
      ]
    },
    {
      "cell_type": "code",
      "metadata": {
        "colab": {
          "base_uri": "https://localhost:8080/"
        },
        "id": "C35juWwu4VxE",
        "outputId": "f8c0441e-d350-4407-aab8-93a985cbf926"
      },
      "source": [
        "# 2-the percentage of 5-star reviews for unpaid reviews:\n",
        "five_star_reviews_unpaid.count()/five_star_reviews.count()"
      ],
      "execution_count": 62,
      "outputs": [
        {
          "output_type": "execute_result",
          "data": {
            "text/plain": [
              "0.9965493443754313"
            ]
          },
          "metadata": {},
          "execution_count": 62
        }
      ]
    },
    {
      "cell_type": "code",
      "metadata": {
        "colab": {
          "base_uri": "https://localhost:8080/"
        },
        "id": "ROGaByiTwB8D",
        "outputId": "1d4434cc-442f-40f8-b2f9-55b37fc60b88"
      },
      "source": [
        "#the percentage of 5 stars reviews compared to total paid reviews - With Vine\n",
        "\n",
        "five_star_reviews_paid.count()/df3_Y.count()"
      ],
      "execution_count": 64,
      "outputs": [
        {
          "output_type": "execute_result",
          "data": {
            "text/plain": [
              "0.3191489361702128"
            ]
          },
          "metadata": {},
          "execution_count": 64
        }
      ]
    },
    {
      "cell_type": "code",
      "metadata": {
        "colab": {
          "base_uri": "https://localhost:8080/"
        },
        "id": "PfNANmnL69tB",
        "outputId": "acaa7b4a-3c49-4ec2-85c0-a5adb2241002"
      },
      "source": [
        "#the percentage of 5 stars reviews compared to total paid reviews - No Vine\n",
        "five_star_reviews_unpaid.count()/df3_N.count()"
      ],
      "execution_count": 65,
      "outputs": [
        {
          "output_type": "execute_result",
          "data": {
            "text/plain": [
              "0.5180578808897393"
            ]
          },
          "metadata": {},
          "execution_count": 65
        }
      ]
    }
  ]
}